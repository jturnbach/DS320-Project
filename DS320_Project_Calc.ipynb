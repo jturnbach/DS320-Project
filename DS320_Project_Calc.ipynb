{
  "nbformat": 4,
  "nbformat_minor": 0,
  "metadata": {
    "colab": {
      "provenance": [],
      "include_colab_link": true
    },
    "kernelspec": {
      "name": "python3",
      "display_name": "Python 3"
    },
    "language_info": {
      "name": "python"
    }
  },
  "cells": [
    {
      "cell_type": "markdown",
      "metadata": {
        "id": "view-in-github",
        "colab_type": "text"
      },
      "source": [
        "<a href=\"https://colab.research.google.com/github/jturnbach/DS320-Project/blob/main/DS320_Project_Calc.ipynb\" target=\"_parent\"><img src=\"https://colab.research.google.com/assets/colab-badge.svg\" alt=\"Open In Colab\"/></a>"
      ]
    },
    {
      "cell_type": "markdown",
      "source": [
        "NYT Covid Data By County = https://github.com/nytimes/covid-19-data"
      ],
      "metadata": {
        "id": "vkDXGrZdou6m"
      }
    },
    {
      "cell_type": "code",
      "execution_count": 159,
      "metadata": {
        "id": "ulQ69WP2ZiLe"
      },
      "outputs": [],
      "source": [
        "import pandas as pd\n",
        "import yfinance as yf\n",
        "from io import StringIO, BytesIO\n",
        "import requests\n",
        "import zipfile\n",
        "import matplotlib.pyplot as plt"
      ]
    },
    {
      "cell_type": "code",
      "source": [
        "github_repo_url = 'https://github.com/jturnbach/DS320-Project'\n",
        "\n",
        "#create path dictionary\n",
        "covid_data_by_county_paths = {\n",
        "    2020: 'covid_cases_by_county_2020.csv.zip',\n",
        "    2021: 'covid_cases_by_county_2021.csv.zip',\n",
        "    2022: 'covid_cases_by_county_2022.csv.zip',\n",
        "    2023: 'covid_cases_by_county_2023.csv.zip'\n",
        "}\n",
        "\n",
        "#covid dict format: (year): (csv_file)\n",
        "covid_by_county = {}\n",
        "covid_by_state = pd.DataFrame({})\n",
        "covid = {}\n",
        "\n",
        "#load files from path dict to covid dict\n",
        "for year in covid_data_by_county_paths.keys():\n",
        "  url = f'{github_repo_url}/raw/main/{covid_data_by_county_paths[year]}'\n",
        "  response = requests.get(url)\n",
        "  if response.status_code == 200:\n",
        "    with zipfile.ZipFile(BytesIO(response.content)) as z:\n",
        "      with z.open(covid_data_by_county_paths[year][:-4]) as file:\n",
        "        covid_by_county[year] = pd.read_csv(file)\n",
        "\n",
        "url = f'{github_repo_url}/raw/main/us-states.csv'\n",
        "response = requests.get(url)\n",
        "print(response.status_code)\n",
        "if response.status_code == 200:\n",
        "  covid_by_state = pd.read_csv(BytesIO(response.content))\n",
        "  print(covid_by_state)\n",
        "print(type(covid_by_state))\n",
        "covid = {year: group for year, group in covid_by_state.groupby(pd.to_datetime(covid_by_state['date']).dt.year)}\n"
      ],
      "metadata": {
        "colab": {
          "base_uri": "https://localhost:8080/"
        },
        "id": "AGcLKoSK08bN",
        "outputId": "f3dae76b-57ff-4fed-c9c2-531fc82cff3c"
      },
      "execution_count": 160,
      "outputs": [
        {
          "output_type": "stream",
          "name": "stdout",
          "text": [
            "200\n",
            "             date          state  fips    cases  deaths\n",
            "0      2020-01-21     Washington    53        1       0\n",
            "1      2020-01-22     Washington    53        1       0\n",
            "2      2020-01-23     Washington    53        1       0\n",
            "3      2020-01-24       Illinois    17        1       0\n",
            "4      2020-01-24     Washington    53        1       0\n",
            "...           ...            ...   ...      ...     ...\n",
            "61937  2023-03-23       Virginia    51  2298300   23782\n",
            "61938  2023-03-23     Washington    53  1940704   15905\n",
            "61939  2023-03-23  West Virginia    54   645710    8132\n",
            "61940  2023-03-23      Wisconsin    55  2014524   16485\n",
            "61941  2023-03-23        Wyoming    56   185800    2014\n",
            "\n",
            "[61942 rows x 5 columns]\n",
            "<class 'pandas.core.frame.DataFrame'>\n"
          ]
        }
      ]
    },
    {
      "cell_type": "code",
      "source": [
        "# Load COVID-19 dataset for 2020\n",
        "#covid[2020] = pd.read_csv(#Need the paths here)\n",
        "\n",
        "# Load COVID-19 dataset for 2021\n",
        "#covid[2021] = pd.read_csv(#Need the paths here)\n",
        "\n",
        "# Concatenate both datasets\n",
        "covid_data = pd.concat([pd.DataFrame(covid[2020]), pd.DataFrame(covid[2021])])\n",
        "covid_data['new_cases'] = covid_data.groupby('state')['cases'].diff().fillna(covid_data['cases'])\n",
        "\n",
        "# Fetch DASH stock data using yfinance\n",
        "dash = yf.Ticker('DASH')\n",
        "stock_dash = dash.history(period='1y')  # Fetch data from 2020 - 2021\n",
        "\n",
        "# Fixing the dates\n",
        "covid_data['date'] = pd.to_datetime(covid_data['date']).dt.date\n",
        "stock_dash.reset_index(inplace=True)  # Resetting index to have 'Date' as a column\n",
        "stock_dash['Date'] = pd.to_datetime(stock_dash['Date']).dt.date\n",
        "\n",
        "# Merge datasets\n",
        "merged_data = pd.merge(covid_data, stock_dash, left_on='date', right_on='Date', how='inner')\n",
        "\n",
        "# Calculate Pearson correlation coefficient\n",
        "pearson_corr = merged_data['new_cases'].corr(merged_data['Open'])\n",
        "print(f\"Pearson Correlation Coefficient: {pearson_corr}\")\n",
        "\n",
        "# Calculate Covariance\n",
        "covariance = merged_data['new_cases'].cov(merged_data['Open'])\n",
        "print(f\"Covariance: {covariance}\")\n",
        "\n",
        "# Rolling Window Correlation (example window size = 10)\n",
        "rolling_corr = merged_data['new_cases'].rolling(window=10).corr(merged_data['Open'])\n",
        "print(\"Rolling Window Correlation:\")\n",
        "print(rolling_corr)\n",
        "\n",
        "# Moving Averages (example window size = 7)\n",
        "covid_data['cases_MA'] = covid_data['new_cases'].rolling(window=7).mean()\n",
        "stock_dash['Open_MA'] = stock_dash['Open'].rolling(window=7).mean()\n",
        "\n",
        "# Daily Returns for stock prices\n",
        "stock_dash['Returns'] = stock_dash['Open'].pct_change()\n",
        "\n",
        "# Volatility (example window size = 30)\n",
        "stock_dash['Volatility'] = stock_dash['Open'].rolling(window=30).std()\n",
        "\n",
        "# Print some calculated outputs\n",
        "print(\"\\nMoving Averages for COVID-19 Cases:\")\n",
        "print(covid_data['cases_MA'].head(15))  # Print the first 15 values of the moving average for COVID-19 cases\n",
        "print(\"\\nDaily Returns for DASH Stock Prices:\")\n",
        "print(stock_dash['Returns'].head(15))  # Print the first 15 daily returns for DASH stock prices\n",
        "print(\"\\nVolatility for DASH Stock Prices:\")\n",
        "print(stock_dash['Volatility'].head(15))  # Print the first 15 values of volatility for DASH stock prices"
      ],
      "metadata": {
        "id": "-FFtQ4N7lcxH",
        "colab": {
          "base_uri": "https://localhost:8080/"
        },
        "outputId": "49cdba70-60b1-43ff-b8f2-d41f317d5ffe"
      },
      "execution_count": 161,
      "outputs": [
        {
          "output_type": "stream",
          "name": "stdout",
          "text": [
            "Pearson Correlation Coefficient: nan\n",
            "Covariance: nan\n",
            "Rolling Window Correlation:\n",
            "Series([], dtype: float64)\n",
            "\n",
            "Moving Averages for COVID-19 Cases:\n",
            "0          NaN\n",
            "1          NaN\n",
            "2          NaN\n",
            "3          NaN\n",
            "4          NaN\n",
            "5          NaN\n",
            "6     0.428571\n",
            "7     0.285714\n",
            "8     0.428571\n",
            "9     0.571429\n",
            "10    0.428571\n",
            "11    0.428571\n",
            "12    0.285714\n",
            "13    0.285714\n",
            "14    0.285714\n",
            "Name: cases_MA, dtype: float64\n",
            "\n",
            "Daily Returns for DASH Stock Prices:\n",
            "0          NaN\n",
            "1    -0.035369\n",
            "2    -0.017199\n",
            "3     0.041538\n",
            "4    -0.016617\n",
            "5     0.043748\n",
            "6     0.101097\n",
            "7    -0.052442\n",
            "8    -0.008621\n",
            "9    -0.042609\n",
            "10   -0.041054\n",
            "11   -0.033340\n",
            "12    0.019008\n",
            "13    0.000000\n",
            "14   -0.019808\n",
            "Name: Returns, dtype: float64\n",
            "\n",
            "Volatility for DASH Stock Prices:\n",
            "0    NaN\n",
            "1    NaN\n",
            "2    NaN\n",
            "3    NaN\n",
            "4    NaN\n",
            "5    NaN\n",
            "6    NaN\n",
            "7    NaN\n",
            "8    NaN\n",
            "9    NaN\n",
            "10   NaN\n",
            "11   NaN\n",
            "12   NaN\n",
            "13   NaN\n",
            "14   NaN\n",
            "Name: Volatility, dtype: float64\n"
          ]
        }
      ]
    }
  ]
}